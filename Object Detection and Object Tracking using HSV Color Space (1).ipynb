{
 "cells": [
  {
   "cell_type": "code",
   "execution_count": null,
   "id": "3eee6a63",
   "metadata": {},
   "outputs": [],
   "source": [
    "import cv2\n",
    "import numpy as np\n",
    "def do_some(x):\n",
    "    pass\n",
    "cv2.namedWindow(\"image\",cv2.WINDOW_AUTOSIZE)\n",
    "cv2.createTrackbar(\"lh\",\"image\",0,255,do_some)\n",
    "cv2.createTrackbar(\"ls\",\"image\",0,255,do_some)\n",
    "cv2.createTrackbar(\"lv\",\"image\",0,255,do_some)\n",
    "\n",
    "cv2.createTrackbar(\"uh\",\"image\",255,255,do_some)\n",
    "cv2.createTrackbar(\"us\",\"image\",255,255,do_some)\n",
    "cv2.createTrackbar(\"uv\",\"image\",255,255,do_some)\n",
    "\n",
    "while True:\n",
    "    frame=cv2.imread(\"ballon.jpg\")\n",
    "    frame=cv2.resize(frame,(480,360))\n",
    "    hsv=cv2.cvtColor(frame,cv2.COLOR_BGR2HSV)\n",
    "    l_h=cv2.getTrackbarPos(\"lh\",\"image\")\n",
    "    l_s=cv2.getTrackbarPos(\"ls\",\"image\")\n",
    "    l_v=cv2.getTrackbarPos(\"lv\",\"image\")\n",
    "    \n",
    "    u_h=cv2.getTrackbarPos(\"uh\",\"image\")\n",
    "    u_s=cv2.getTrackbarPos(\"us\",\"image\")\n",
    "    u_v=cv2.getTrackbarPos(\"uv\",\"image\")\n",
    "    \n",
    "    \n",
    "    l_b=np.array([l_h,l_s,l_v])\n",
    "    u_b=np.array([u_h,u_s,u_v])\n",
    "    \n",
    "    mask=cv2.inRange(hsv,l_b,u_b)\n",
    "    res=cv2.bitwise_and(frame,frame,mask=mask)\n",
    "    \n",
    "     \n",
    "    cv2.imshow(\"ballons\",frame)\n",
    "    cv2.imshow(\"mask\",mask)\n",
    "    cv2.imshow(\"res\",res)\n",
    "    key=cv2.waitKey(1)\n",
    "    if key==27:\n",
    "        break\n",
    "cv2.destroyAllWindows() \n"
   ]
  },
  {
   "cell_type": "code",
   "execution_count": null,
   "id": "a657b7d3",
   "metadata": {},
   "outputs": [],
   "source": []
  }
 ],
 "metadata": {
  "kernelspec": {
   "display_name": "Python 3 (ipykernel)",
   "language": "python",
   "name": "python3"
  },
  "language_info": {
   "codemirror_mode": {
    "name": "ipython",
    "version": 3
   },
   "file_extension": ".py",
   "mimetype": "text/x-python",
   "name": "python",
   "nbconvert_exporter": "python",
   "pygments_lexer": "ipython3",
   "version": "3.9.7"
  }
 },
 "nbformat": 4,
 "nbformat_minor": 5
}
